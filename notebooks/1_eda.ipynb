{
 "cells": [
  {
   "cell_type": "markdown",
   "id": "22c8c0fb",
   "metadata": {},
   "source": [
    "# Titanic EDA Notebook\n",
    "\n",
    "This notebook is dedicated to exploratory data analysis (EDA) on the Titanic dataset.  \n",
    "Note: Preprocessing functions (scaling, encoding, etc.) are defined in `data_processing.py` and `processed.py`.  \n",
    "Here we mainly focus on data exploration, visualization, and feature understanding.\n"
   ]
  },
  {
   "cell_type": "code",
   "execution_count": null,
   "id": "b255a907",
   "metadata": {},
   "outputs": [],
   "source": [
    "# 1. Import Libraries\n",
    "import pandas as pd\n",
    "import numpy as np\n",
    "import matplotlib.pyplot as plt\n",
    "import seaborn as sns\n",
    "\n",
    "# Import custom preprocessing functions (if needed)\n",
    "from data_processing import min_max_scale, standardize, one_hot_encode\n"
   ]
  },
  {
   "cell_type": "code",
   "execution_count": null,
   "id": "08ed963e",
   "metadata": {},
   "outputs": [],
   "source": [
    "# 2. Load Raw Dataset\n",
    "df = pd.read_csv(\"titanic.csv\")  # adjust path if needed\n",
    "df.head()"
   ]
  },
  {
   "cell_type": "code",
   "execution_count": null,
   "id": "88a5eafd",
   "metadata": {},
   "outputs": [],
   "source": [
    "# 3. Data Overview\n",
    "print(\"Shape of dataset:\", df.shape)\n",
    "df.info()\n",
    "df.describe()\n",
    "df.isnull().sum()\n"
   ]
  },
  {
   "cell_type": "code",
   "execution_count": null,
   "id": "dca2ef34",
   "metadata": {},
   "outputs": [],
   "source": [
    "# 4. Target Variable Distribution\n",
    "sns.countplot(x=\"Survived\", data=df)\n",
    "plt.title(\"Survival Distribution\")\n",
    "plt.show()\n"
   ]
  },
  {
   "cell_type": "code",
   "execution_count": null,
   "id": "3802c58d",
   "metadata": {},
   "outputs": [],
   "source": [
    "# 5. Numerical Feature Exploration\n",
    "fig, axs = plt.subplots(1, 2, figsize=(12, 5))\n",
    "\n",
    "sns.histplot(df[\"Age\"].dropna(), bins=30, kde=True, ax=axs[0])\n",
    "axs[0].set_title(\"Age Distribution\")\n",
    "\n",
    "sns.histplot(df[\"Fare\"], bins=30, kde=True, ax=axs[1])\n",
    "axs[1].set_title(\"Fare Distribution\")\n",
    "\n",
    "plt.tight_layout()\n",
    "plt.show()\n"
   ]
  },
  {
   "cell_type": "code",
   "execution_count": null,
   "id": "654eda32",
   "metadata": {},
   "outputs": [],
   "source": [
    "# 6. Categorical Feature Exploration\n",
    "fig, axs = plt.subplots(1, 2, figsize=(12, 5))\n",
    "\n",
    "sns.countplot(x=\"Sex\", data=df, ax=axs[0])\n",
    "axs[0].set_title(\"Passenger Gender Distribution\")\n",
    "\n",
    "sns.countplot(x=\"Pclass\", data=df, ax=axs[1])\n",
    "axs[1].set_title(\"Passenger Class Distribution\")\n",
    "\n",
    "plt.tight_layout()\n",
    "plt.show()\n"
   ]
  },
  {
   "cell_type": "code",
   "execution_count": null,
   "id": "ed43805c",
   "metadata": {},
   "outputs": [],
   "source": [
    "# 7. Survival by Category\n",
    "sns.catplot(x=\"Sex\", hue=\"Survived\", data=df, kind=\"count\")\n",
    "sns.catplot(x=\"Pclass\", hue=\"Survived\", data=df, kind=\"count\")\n"
   ]
  },
  {
   "cell_type": "code",
   "execution_count": null,
   "id": "de796207",
   "metadata": {},
   "outputs": [],
   "source": [
    "# 8. Correlation Heatmap (numeric features only)\n",
    "plt.figure(figsize=(8, 6))\n",
    "sns.heatmap(df.corr(numeric_only=True), annot=True, cmap=\"coolwarm\", fmt=\".2f\")\n",
    "plt.title(\"Correlation Heatmap\")\n",
    "plt.show()\n"
   ]
  },
  {
   "cell_type": "code",
   "execution_count": null,
   "id": "e47ad01f",
   "metadata": {},
   "outputs": [],
   "source": []
  }
 ],
 "metadata": {
  "kernelspec": {
   "display_name": "base",
   "language": "python",
   "name": "python3"
  },
  "language_info": {
   "name": "python",
   "version": "3.13.5"
  }
 },
 "nbformat": 4,
 "nbformat_minor": 5
}
